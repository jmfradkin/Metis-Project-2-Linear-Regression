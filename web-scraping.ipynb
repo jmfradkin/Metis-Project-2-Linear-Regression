{
 "cells": [
  {
   "cell_type": "markdown",
   "metadata": {},
   "source": [
    "# Project Luther"
   ]
  },
  {
   "cell_type": "markdown",
   "metadata": {},
   "source": [
    "*Project 2 of Metis Data Science Bootcamp.* Problem statement below:  \n",
    "\n",
    "Using information we scrape from the web, can we build linear regression models from which we can learn about the movie industry?\n",
    "\n",
    "**I chose to focus on movies \"Based on a true story\" to determine which features predict success, as measured by Worldwide Gross.**\n",
    "\n",
    "*This notebook shows the execution of web scraping for IMDB.com, Boxofficemojo.com, and The-Numbers.com with Beautiful Soup.*"
   ]
  },
  {
   "cell_type": "markdown",
   "metadata": {},
   "source": [
    "### Web Scraping Movie Data From IMDB.com:"
   ]
  },
  {
   "cell_type": "code",
   "execution_count": 10,
   "metadata": {
    "collapsed": true
   },
   "outputs": [],
   "source": [
    "from bs4 import BeautifulSoup\n",
    "import requests\n",
    "import pandas as pd\n",
    "from datetime import datetime\n",
    "import numpy as np"
   ]
  },
  {
   "cell_type": "code",
   "execution_count": 11,
   "metadata": {
    "collapsed": true
   },
   "outputs": [],
   "source": [
    "def read_url(url):\n",
    "    response = requests.get(url)\n",
    "    page=response.text\n",
    "    soup=BeautifulSoup(page,'lxml')\n",
    "    return soup"
   ]
  },
  {
   "cell_type": "markdown",
   "metadata": {},
   "source": [
    "Acquire all page URLs for top 800 movies in \"Based on a True Story\" category:"
   ]
  },
  {
   "cell_type": "code",
   "execution_count": 43,
   "metadata": {
    "collapsed": true
   },
   "outputs": [],
   "source": [
    "url_list=[]\n",
    "\n",
    "for i in range(1,13):\n",
    "    url_list.append('http://www.imdb.com/search/keyword?keywords=based-on-true-story&mode=advanced&page={}&ref_=kw_nxt&sort=moviemeter,asc'.format(i))"
   ]
  },
  {
   "cell_type": "markdown",
   "metadata": {},
   "source": [
    "Collect IMDB Scores:"
   ]
  },
  {
   "cell_type": "code",
   "execution_count": 44,
   "metadata": {
    "collapsed": false
   },
   "outputs": [],
   "source": [
    "i_scores=[]\n",
    "\n",
    "for url in url_list:\n",
    "    scores=read_url(url).find_all(\"div\", {\"class\": \"lister-item-content\"})\n",
    "    for p in scores:\n",
    "        try:\n",
    "            if p.find('div')['class']==['ratings-bar']:\n",
    "                i_scores.append(float(p.find('div',{'class':'ratings-bar'}).find('strong').get_text()))\n",
    "        except:\n",
    "            i_scores.append(np.nan)"
   ]
  },
  {
   "cell_type": "markdown",
   "metadata": {},
   "source": [
    "Collecting Run Times:"
   ]
  },
  {
   "cell_type": "code",
   "execution_count": 45,
   "metadata": {
    "collapsed": false
   },
   "outputs": [],
   "source": [
    "runtimes=[]\n",
    "\n",
    "for url in url_list:\n",
    "    RT=read_url(url).find_all(\"p\", {\"class\": \"text-muted\"})\n",
    "    for p in RT:\n",
    "        if p.find('span')==None:\n",
    "            pass\n",
    "        elif p.find_all('span')[0]['class']==['certificate'] and p.find_all('span')[2]['class']!=['genre']:\n",
    "            runtimes.append(int(filter(str.isdigit,str(p.find_all('span')[2].get_text()))))    \n",
    "        elif p.find_all('span')[0]['class']==['runtime']:\n",
    "            runtimes.append(int(filter(str.isdigit,str(p.find_all('span')[0].get_text()))))\n",
    "        else:    \n",
    "            runtimes.append(np.nan)"
   ]
  },
  {
   "cell_type": "markdown",
   "metadata": {},
   "source": [
    "Collect ratings:"
   ]
  },
  {
   "cell_type": "code",
   "execution_count": 46,
   "metadata": {
    "collapsed": false
   },
   "outputs": [],
   "source": [
    "ratings=[]\n",
    "\n",
    "for url in url_list:\n",
    "    rate=read_url(url).find_all(\"p\", {\"class\": \"text-muted\"})\n",
    "    for p in rate:\n",
    "        if p.find('span')==None:\n",
    "            pass\n",
    "        elif p.find('span')['class']==['certificate']:\n",
    "            ratings.append(str(p.find('span',{'class':'certificate'}).get_text()))\n",
    "        else:\n",
    "            ratings.append(np.nan)"
   ]
  },
  {
   "cell_type": "markdown",
   "metadata": {},
   "source": [
    "Collecting genres:"
   ]
  },
  {
   "cell_type": "code",
   "execution_count": 47,
   "metadata": {
    "collapsed": false
   },
   "outputs": [],
   "source": [
    "genres=[]\n",
    "for url in url_list:\n",
    "    genre=read_url(url).find_all('span',{\"class\":\"genre\"})\n",
    "    for item in [g.get_text() for g in genre]:\n",
    "        genres.append(str(item).replace('\\n','').strip())"
   ]
  },
  {
   "cell_type": "markdown",
   "metadata": {},
   "source": [
    "Create categorical variable for each genre where 1 = Movie contained this genre, 0 = Movie did not contain this genre"
   ]
  },
  {
   "cell_type": "code",
   "execution_count": 48,
   "metadata": {
    "collapsed": false
   },
   "outputs": [],
   "source": [
    "gset=['Action','Adventure','Biography','Comedy','Crime','Documentary','Drama','Family','History','Horror',\n",
    "      'Music','Mystery','Romance','Sport','Thriller','War','Western']\n",
    "Action,Adventure,Biography,Comedy,Crime,Documentary,Drama,Family,History,Horror,Music,Mystery,Romance,Sport,Thriller,War,Western=([] for i in range(len(gset)))\n",
    "\n",
    "glist=[Action,Adventure,Biography,Comedy,Crime,Documentary,Drama,Family,History,Horror,Music,Mystery,Romance,Sport,Thriller,War,Western]\n",
    "for g in genres:\n",
    "    for c in gset:\n",
    "        if c in g:\n",
    "            glist[gset.index(c)].append(1)\n",
    "        else:\n",
    "            glist[gset.index(c)].append(0)"
   ]
  },
  {
   "cell_type": "markdown",
   "metadata": {},
   "source": [
    "Collecting movie titles:"
   ]
  },
  {
   "cell_type": "code",
   "execution_count": 49,
   "metadata": {
    "collapsed": false
   },
   "outputs": [],
   "source": [
    "titles=[]\n",
    "for url in url_list:\n",
    "    d1=read_url(url).find_all('h3',{\"class\":\"lister-item-header\"})\n",
    "    for h in d1:\n",
    "        for link in h.find_all('a'):\n",
    "            titles.append(str(link.get_text().encode('utf-8')))"
   ]
  },
  {
   "cell_type": "markdown",
   "metadata": {},
   "source": [
    "Combine into dataframe:"
   ]
  },
  {
   "cell_type": "code",
   "execution_count": 50,
   "metadata": {
    "collapsed": false
   },
   "outputs": [
    {
     "data": {
      "text/html": [
       "<div>\n",
       "<table border=\"1\" class=\"dataframe\">\n",
       "  <thead>\n",
       "    <tr style=\"text-align: right;\">\n",
       "      <th></th>\n",
       "      <th>Title</th>\n",
       "      <th>Rating</th>\n",
       "      <th>Runtime</th>\n",
       "      <th>IMDB_Score</th>\n",
       "      <th>Action</th>\n",
       "      <th>Adventure</th>\n",
       "      <th>Biography</th>\n",
       "      <th>Comedy</th>\n",
       "      <th>Crime</th>\n",
       "      <th>Documentary</th>\n",
       "      <th>...</th>\n",
       "      <th>Family</th>\n",
       "      <th>History</th>\n",
       "      <th>Horror</th>\n",
       "      <th>Music</th>\n",
       "      <th>Mystery</th>\n",
       "      <th>Romance</th>\n",
       "      <th>Sport</th>\n",
       "      <th>Thriller</th>\n",
       "      <th>War</th>\n",
       "      <th>Western</th>\n",
       "    </tr>\n",
       "  </thead>\n",
       "  <tbody>\n",
       "    <tr>\n",
       "      <th>0</th>\n",
       "      <td>Spotlight</td>\n",
       "      <td>3</td>\n",
       "      <td>128</td>\n",
       "      <td>8.2</td>\n",
       "      <td>0</td>\n",
       "      <td>0</td>\n",
       "      <td>1</td>\n",
       "      <td>0</td>\n",
       "      <td>0</td>\n",
       "      <td>0</td>\n",
       "      <td>...</td>\n",
       "      <td>0</td>\n",
       "      <td>1</td>\n",
       "      <td>0</td>\n",
       "      <td>0</td>\n",
       "      <td>0</td>\n",
       "      <td>0</td>\n",
       "      <td>0</td>\n",
       "      <td>0</td>\n",
       "      <td>0</td>\n",
       "      <td>0</td>\n",
       "    </tr>\n",
       "    <tr>\n",
       "      <th>1</th>\n",
       "      <td>The Revenant</td>\n",
       "      <td>3</td>\n",
       "      <td>156</td>\n",
       "      <td>8.2</td>\n",
       "      <td>0</td>\n",
       "      <td>1</td>\n",
       "      <td>0</td>\n",
       "      <td>0</td>\n",
       "      <td>0</td>\n",
       "      <td>0</td>\n",
       "      <td>...</td>\n",
       "      <td>0</td>\n",
       "      <td>0</td>\n",
       "      <td>0</td>\n",
       "      <td>0</td>\n",
       "      <td>0</td>\n",
       "      <td>0</td>\n",
       "      <td>0</td>\n",
       "      <td>1</td>\n",
       "      <td>0</td>\n",
       "      <td>0</td>\n",
       "    </tr>\n",
       "    <tr>\n",
       "      <th>2</th>\n",
       "      <td>The Danish Girl</td>\n",
       "      <td>3</td>\n",
       "      <td>119</td>\n",
       "      <td>7.0</td>\n",
       "      <td>0</td>\n",
       "      <td>0</td>\n",
       "      <td>1</td>\n",
       "      <td>0</td>\n",
       "      <td>0</td>\n",
       "      <td>0</td>\n",
       "      <td>...</td>\n",
       "      <td>0</td>\n",
       "      <td>0</td>\n",
       "      <td>0</td>\n",
       "      <td>0</td>\n",
       "      <td>0</td>\n",
       "      <td>1</td>\n",
       "      <td>0</td>\n",
       "      <td>0</td>\n",
       "      <td>0</td>\n",
       "      <td>0</td>\n",
       "    </tr>\n",
       "    <tr>\n",
       "      <th>3</th>\n",
       "      <td>The Big Short</td>\n",
       "      <td>3</td>\n",
       "      <td>130</td>\n",
       "      <td>7.9</td>\n",
       "      <td>0</td>\n",
       "      <td>0</td>\n",
       "      <td>1</td>\n",
       "      <td>1</td>\n",
       "      <td>0</td>\n",
       "      <td>0</td>\n",
       "      <td>...</td>\n",
       "      <td>0</td>\n",
       "      <td>0</td>\n",
       "      <td>0</td>\n",
       "      <td>0</td>\n",
       "      <td>0</td>\n",
       "      <td>0</td>\n",
       "      <td>0</td>\n",
       "      <td>0</td>\n",
       "      <td>0</td>\n",
       "      <td>0</td>\n",
       "    </tr>\n",
       "    <tr>\n",
       "      <th>4</th>\n",
       "      <td>Titanic</td>\n",
       "      <td>4</td>\n",
       "      <td>194</td>\n",
       "      <td>7.7</td>\n",
       "      <td>0</td>\n",
       "      <td>0</td>\n",
       "      <td>0</td>\n",
       "      <td>0</td>\n",
       "      <td>0</td>\n",
       "      <td>0</td>\n",
       "      <td>...</td>\n",
       "      <td>0</td>\n",
       "      <td>0</td>\n",
       "      <td>0</td>\n",
       "      <td>0</td>\n",
       "      <td>0</td>\n",
       "      <td>1</td>\n",
       "      <td>0</td>\n",
       "      <td>0</td>\n",
       "      <td>0</td>\n",
       "      <td>0</td>\n",
       "    </tr>\n",
       "  </tbody>\n",
       "</table>\n",
       "<p>5 rows × 21 columns</p>\n",
       "</div>"
      ],
      "text/plain": [
       "             Title  Rating  Runtime  IMDB_Score  Action  Adventure  Biography  \\\n",
       "0        Spotlight       3      128         8.2       0          0          1   \n",
       "1     The Revenant       3      156         8.2       0          1          0   \n",
       "2  The Danish Girl       3      119         7.0       0          0          1   \n",
       "3    The Big Short       3      130         7.9       0          0          1   \n",
       "4          Titanic       4      194         7.7       0          0          0   \n",
       "\n",
       "   Comedy  Crime  Documentary   ...     Family  History  Horror  Music  \\\n",
       "0       0      0            0   ...          0        1       0      0   \n",
       "1       0      0            0   ...          0        0       0      0   \n",
       "2       0      0            0   ...          0        0       0      0   \n",
       "3       1      0            0   ...          0        0       0      0   \n",
       "4       0      0            0   ...          0        0       0      0   \n",
       "\n",
       "   Mystery  Romance  Sport  Thriller  War  Western  \n",
       "0        0        0      0         0    0        0  \n",
       "1        0        0      0         1    0        0  \n",
       "2        0        1      0         0    0        0  \n",
       "3        0        0      0         0    0        0  \n",
       "4        0        1      0         0    0        0  \n",
       "\n",
       "[5 rows x 21 columns]"
      ]
     },
     "execution_count": 50,
     "metadata": {},
     "output_type": "execute_result"
    }
   ],
   "source": [
    "imdb_movies=pd.DataFrame({\"Title\":titles,'Rating':ratings,'Runtime':runtimes,'IMDB_Score':i_scores, 'Action':Action,'Adventure':Adventure,'Biography':Biography,'Comedy':Comedy,'Crime':Crime,'Documentary':Documentary,'Drama':Drama,'Family':Family,'History':History,'Horror':Horror,'Music':Music,'Mystery':Mystery,'Romance':Romance,'Sport':Sport,'Thriller':Thriller,'War':War,'Western':Western})\n",
    "imdb_movies=imdb_movies[['Title','Rating','Runtime','IMDB_Score','Action','Adventure','Biography','Comedy','Crime','Documentary','Drama','Family','History','Horror','Music','Mystery','Romance','Sport','Thriller','War','Western']]\n",
    "\n",
    "#Replace movie rating with value 1-4 based on typical box office performance\n",
    "imdb_movies['Rating']=imdb_movies['Rating'].replace('G',1).replace('PG',2).replace('PG-13',4).replace('R',3).replace([i for i in imdb_movies['Rating'] if i not in ['G','PG','PG-13','R']],np.nan)\n",
    "#imdb_movies['Rating']=[np.nan for i in imdb_movies['Rating'] if type(i)==str]\n",
    "\n",
    "imdb_movies.head()"
   ]
  },
  {
   "cell_type": "markdown",
   "metadata": {},
   "source": [
    "### Collecting Movies A-Z From BoxOfficeMojo.com"
   ]
  },
  {
   "cell_type": "markdown",
   "metadata": {},
   "source": [
    "Generate all URLs:"
   ]
  },
  {
   "cell_type": "code",
   "execution_count": 52,
   "metadata": {
    "collapsed": false
   },
   "outputs": [],
   "source": [
    "abc_list=[]\n",
    "abc_dict={'A':9,'B':8,'C':7,'D':6,'E':7,'F':6,'G':7,'H':6,'I':6,'J':4,'K':4,'L':5,'M':7,'N':5,'O':5,'P':7,'R':5,'S':13,'T':8,'U':2,'V':3,'W':6,'Y':2,'Z':2}\n",
    "for letter in abc_dict.keys():\n",
    "    for num in range(1,abc_dict[letter]+1):\n",
    "        abc_list.append('http://www.boxofficemojo.com/movies/alphabetical.htm?letter={}&page={}&p=.htm'.format(letter,num))"
   ]
  },
  {
   "cell_type": "markdown",
   "metadata": {},
   "source": [
    "Collect Data for: Title, Total Gross, Total Theaters, Opening Gross, Opening Theaters, Date"
   ]
  },
  {
   "cell_type": "code",
   "execution_count": 53,
   "metadata": {
    "collapsed": true
   },
   "outputs": [],
   "source": [
    "title,tot_gross,t_theaters,opening,o_theaters,date= ([] for i in range(6))\n",
    "\n",
    "for url in abc_list: \n",
    "    table1=read_url(url).find_all('table')[3]\n",
    "    rows=table1.find_all('tr') \n",
    "\n",
    "    for row in rows[1:]:\n",
    "        title.append(str(row.find_all('td')[0].find('a').get_text().encode('utf-8')))\n",
    "        tot_gross.append(int(str(row.find_all('td')[2].get_text()).replace('$','').replace(',','').replace('*','').replace('n/a','0')))\n",
    "        opening.append(int(str(row.find_all('td')[4].get_text()).replace('$','').replace(',','').replace('n/a','0')))\n",
    "        date.append(str(row.find_all('td')[6].get_text()))\n",
    "        try: \n",
    "            t_theaters.append(int(filter(str.isdigit, str(row.find_all('td')[3].get_text()))))\n",
    "        except:\n",
    "            t_theaters.append(np.nan)\n",
    "        try: \n",
    "            o_theaters.append(int(filter(str.isdigit, str(row.find_all('td')[5].get_text()))))\n",
    "        except:\n",
    "            o_theaters.append(np.nan)"
   ]
  },
  {
   "cell_type": "markdown",
   "metadata": {},
   "source": [
    "Create new variable \"Primetime\", indicating if a movie was released during a typically successful time of year (summer or holiday season)."
   ]
  },
  {
   "cell_type": "code",
   "execution_count": 54,
   "metadata": {
    "collapsed": true
   },
   "outputs": [],
   "source": [
    "date2=[]\n",
    "primetime=[]\n",
    "for d in date:\n",
    "    try:\n",
    "        date2.append(datetime.strptime(d,'%m/%d/%Y'))\n",
    "    except:\n",
    "        date2.append('')\n",
    "for e in date2:\n",
    "    try:\n",
    "        d3=e.month\n",
    "        if d3 in [5,6,7,11,12]:\n",
    "            primetime.append(1)\n",
    "        else:\n",
    "            primetime.append(0)\n",
    "    except:\n",
    "        primetime.append(np.nan)"
   ]
  },
  {
   "cell_type": "markdown",
   "metadata": {},
   "source": [
    "Combine in dataframe:"
   ]
  },
  {
   "cell_type": "code",
   "execution_count": 55,
   "metadata": {
    "collapsed": false
   },
   "outputs": [
    {
     "data": {
      "text/html": [
       "<div>\n",
       "<table border=\"1\" class=\"dataframe\">\n",
       "  <thead>\n",
       "    <tr style=\"text-align: right;\">\n",
       "      <th></th>\n",
       "      <th>Title</th>\n",
       "      <th>TotalTheaters</th>\n",
       "      <th>OpeningGross</th>\n",
       "      <th>OpeningTheaters</th>\n",
       "      <th>Primetime</th>\n",
       "      <th>TotalGross</th>\n",
       "    </tr>\n",
       "  </thead>\n",
       "  <tbody>\n",
       "    <tr>\n",
       "      <th>0</th>\n",
       "      <td>The A-Team</td>\n",
       "      <td>3544</td>\n",
       "      <td>25669455</td>\n",
       "      <td>3535</td>\n",
       "      <td>1</td>\n",
       "      <td>77222099</td>\n",
       "    </tr>\n",
       "    <tr>\n",
       "      <th>1</th>\n",
       "      <td>A.C.O.D.</td>\n",
       "      <td>42</td>\n",
       "      <td>19001</td>\n",
       "      <td>3</td>\n",
       "      <td>0</td>\n",
       "      <td>175705</td>\n",
       "    </tr>\n",
       "    <tr>\n",
       "      <th>2</th>\n",
       "      <td>A.I. Artificial Intelligence</td>\n",
       "      <td>3242</td>\n",
       "      <td>29352630</td>\n",
       "      <td>3242</td>\n",
       "      <td>1</td>\n",
       "      <td>78616689</td>\n",
       "    </tr>\n",
       "    <tr>\n",
       "      <th>3</th>\n",
       "      <td>Aaja Nachle</td>\n",
       "      <td>66</td>\n",
       "      <td>257500</td>\n",
       "      <td>66</td>\n",
       "      <td>1</td>\n",
       "      <td>484108</td>\n",
       "    </tr>\n",
       "    <tr>\n",
       "      <th>4</th>\n",
       "      <td>Aarakshan (Reservation)</td>\n",
       "      <td>91</td>\n",
       "      <td>344661</td>\n",
       "      <td>91</td>\n",
       "      <td>0</td>\n",
       "      <td>651096</td>\n",
       "    </tr>\n",
       "  </tbody>\n",
       "</table>\n",
       "</div>"
      ],
      "text/plain": [
       "                          Title  TotalTheaters  OpeningGross  OpeningTheaters  \\\n",
       "0                    The A-Team           3544      25669455             3535   \n",
       "1                      A.C.O.D.             42         19001                3   \n",
       "2  A.I. Artificial Intelligence           3242      29352630             3242   \n",
       "3                   Aaja Nachle             66        257500               66   \n",
       "4       Aarakshan (Reservation)             91        344661               91   \n",
       "\n",
       "   Primetime  TotalGross  \n",
       "0          1    77222099  \n",
       "1          0      175705  \n",
       "2          1    78616689  \n",
       "3          1      484108  \n",
       "4          0      651096  "
      ]
     },
     "execution_count": 55,
     "metadata": {},
     "output_type": "execute_result"
    }
   ],
   "source": [
    "abc_movies=pd.DataFrame({'Title':title, 'TotalGross':tot_gross, 'TotalTheaters':t_theaters, 'OpeningGross':opening, 'OpeningTheaters':o_theaters, 'Primetime':primetime})\n",
    "abc_movies=abc_movies[['Title','TotalTheaters','OpeningGross','OpeningTheaters','Primetime','TotalGross']]\n",
    "abc_movies.head()"
   ]
  },
  {
   "cell_type": "markdown",
   "metadata": {},
   "source": [
    "### Collecting data for Title, Budge, and Worldwide Gross from The-numbers.com"
   ]
  },
  {
   "cell_type": "code",
   "execution_count": 56,
   "metadata": {
    "collapsed": false
   },
   "outputs": [],
   "source": [
    "url='http://www.the-numbers.com/movie/budgets/all'\n",
    "titles=[]\n",
    "budgets=[]\n",
    "w_grosses=[]\n",
    "\n",
    "table1=read_url(url).find_all('table')[0]\n",
    "m_list=table1.find_all('td')[2::6]\n",
    "budget=table1.find_all('td')[3::6]\n",
    "w_gross=table1.find_all('td')[5::6]\n",
    "\n",
    "for m in m_list:\n",
    "    titles.append(str(m.find('b').find('a').get_text().encode('utf-8')))\n",
    "for b in budget:\n",
    "    budgets.append(int(str(b.get_text()).replace('$','').replace(',','')))\n",
    "for w in w_gross:\n",
    "    w_grosses.append(int(str(w.get_text()).replace('$','').replace(',','')))"
   ]
  },
  {
   "cell_type": "code",
   "execution_count": 57,
   "metadata": {
    "collapsed": true
   },
   "outputs": [],
   "source": [
    "budget_idx=pd.DataFrame({'Title':titles, 'Budget':budgets, 'WorldwideGross':w_grosses})"
   ]
  },
  {
   "cell_type": "markdown",
   "metadata": {},
   "source": [
    "**Merge A-Z Movies from BoxOfficeMojo.com, IMDB.com \"Based on a True Story\" movies, and The-numbers.com movies by Title:**"
   ]
  },
  {
   "cell_type": "code",
   "execution_count": 58,
   "metadata": {
    "collapsed": false
   },
   "outputs": [
    {
     "data": {
      "text/html": [
       "<div>\n",
       "<table border=\"1\" class=\"dataframe\">\n",
       "  <thead>\n",
       "    <tr style=\"text-align: right;\">\n",
       "      <th></th>\n",
       "      <th>Title</th>\n",
       "      <th>Rating</th>\n",
       "      <th>Runtime</th>\n",
       "      <th>IMDB_Score</th>\n",
       "      <th>Action</th>\n",
       "      <th>Adventure</th>\n",
       "      <th>Biography</th>\n",
       "      <th>Comedy</th>\n",
       "      <th>Crime</th>\n",
       "      <th>Documentary</th>\n",
       "      <th>...</th>\n",
       "      <th>Thriller</th>\n",
       "      <th>War</th>\n",
       "      <th>Western</th>\n",
       "      <th>TotalTheaters</th>\n",
       "      <th>OpeningGross</th>\n",
       "      <th>OpeningTheaters</th>\n",
       "      <th>Primetime</th>\n",
       "      <th>TotalGross</th>\n",
       "      <th>Budget</th>\n",
       "      <th>WorldwideGross</th>\n",
       "    </tr>\n",
       "  </thead>\n",
       "  <tbody>\n",
       "    <tr>\n",
       "      <th>0</th>\n",
       "      <td>The Revenant</td>\n",
       "      <td>3</td>\n",
       "      <td>156</td>\n",
       "      <td>8.2</td>\n",
       "      <td>0</td>\n",
       "      <td>1</td>\n",
       "      <td>0</td>\n",
       "      <td>0</td>\n",
       "      <td>0</td>\n",
       "      <td>0</td>\n",
       "      <td>...</td>\n",
       "      <td>1</td>\n",
       "      <td>0</td>\n",
       "      <td>0</td>\n",
       "      <td>3711</td>\n",
       "      <td>474560</td>\n",
       "      <td>4</td>\n",
       "      <td>1</td>\n",
       "      <td>177143137</td>\n",
       "      <td>135000000</td>\n",
       "      <td>430643137</td>\n",
       "    </tr>\n",
       "    <tr>\n",
       "      <th>1</th>\n",
       "      <td>The Big Short</td>\n",
       "      <td>3</td>\n",
       "      <td>130</td>\n",
       "      <td>7.9</td>\n",
       "      <td>0</td>\n",
       "      <td>0</td>\n",
       "      <td>1</td>\n",
       "      <td>1</td>\n",
       "      <td>0</td>\n",
       "      <td>0</td>\n",
       "      <td>...</td>\n",
       "      <td>0</td>\n",
       "      <td>0</td>\n",
       "      <td>0</td>\n",
       "      <td>2529</td>\n",
       "      <td>705527</td>\n",
       "      <td>8</td>\n",
       "      <td>1</td>\n",
       "      <td>69521861</td>\n",
       "      <td>28000000</td>\n",
       "      <td>127221861</td>\n",
       "    </tr>\n",
       "    <tr>\n",
       "      <th>2</th>\n",
       "      <td>Titanic</td>\n",
       "      <td>4</td>\n",
       "      <td>194</td>\n",
       "      <td>7.7</td>\n",
       "      <td>0</td>\n",
       "      <td>0</td>\n",
       "      <td>0</td>\n",
       "      <td>0</td>\n",
       "      <td>0</td>\n",
       "      <td>0</td>\n",
       "      <td>...</td>\n",
       "      <td>0</td>\n",
       "      <td>0</td>\n",
       "      <td>0</td>\n",
       "      <td>3265</td>\n",
       "      <td>28638131</td>\n",
       "      <td>2674</td>\n",
       "      <td>1</td>\n",
       "      <td>600788188</td>\n",
       "      <td>200000000</td>\n",
       "      <td>2207615668</td>\n",
       "    </tr>\n",
       "    <tr>\n",
       "      <th>3</th>\n",
       "      <td>Eddie the Eagle</td>\n",
       "      <td>4</td>\n",
       "      <td>106</td>\n",
       "      <td>7.6</td>\n",
       "      <td>0</td>\n",
       "      <td>0</td>\n",
       "      <td>1</td>\n",
       "      <td>1</td>\n",
       "      <td>0</td>\n",
       "      <td>0</td>\n",
       "      <td>...</td>\n",
       "      <td>0</td>\n",
       "      <td>0</td>\n",
       "      <td>0</td>\n",
       "      <td>2044</td>\n",
       "      <td>6084682</td>\n",
       "      <td>2042</td>\n",
       "      <td>0</td>\n",
       "      <td>11917804</td>\n",
       "      <td>23000000</td>\n",
       "      <td>11917804</td>\n",
       "    </tr>\n",
       "    <tr>\n",
       "      <th>4</th>\n",
       "      <td>The Wolf of Wall Street</td>\n",
       "      <td>3</td>\n",
       "      <td>180</td>\n",
       "      <td>8.2</td>\n",
       "      <td>0</td>\n",
       "      <td>0</td>\n",
       "      <td>1</td>\n",
       "      <td>1</td>\n",
       "      <td>1</td>\n",
       "      <td>0</td>\n",
       "      <td>...</td>\n",
       "      <td>0</td>\n",
       "      <td>0</td>\n",
       "      <td>0</td>\n",
       "      <td>2557</td>\n",
       "      <td>18361578</td>\n",
       "      <td>2537</td>\n",
       "      <td>1</td>\n",
       "      <td>116900694</td>\n",
       "      <td>100000000</td>\n",
       "      <td>391976723</td>\n",
       "    </tr>\n",
       "  </tbody>\n",
       "</table>\n",
       "<p>5 rows × 28 columns</p>\n",
       "</div>"
      ],
      "text/plain": [
       "                     Title  Rating  Runtime  IMDB_Score  Action  Adventure  \\\n",
       "0             The Revenant       3      156         8.2       0          1   \n",
       "1            The Big Short       3      130         7.9       0          0   \n",
       "2                  Titanic       4      194         7.7       0          0   \n",
       "3          Eddie the Eagle       4      106         7.6       0          0   \n",
       "4  The Wolf of Wall Street       3      180         8.2       0          0   \n",
       "\n",
       "   Biography  Comedy  Crime  Documentary       ...        Thriller  War  \\\n",
       "0          0       0      0            0       ...               1    0   \n",
       "1          1       1      0            0       ...               0    0   \n",
       "2          0       0      0            0       ...               0    0   \n",
       "3          1       1      0            0       ...               0    0   \n",
       "4          1       1      1            0       ...               0    0   \n",
       "\n",
       "   Western  TotalTheaters  OpeningGross  OpeningTheaters  Primetime  \\\n",
       "0        0           3711        474560                4          1   \n",
       "1        0           2529        705527                8          1   \n",
       "2        0           3265      28638131             2674          1   \n",
       "3        0           2044       6084682             2042          0   \n",
       "4        0           2557      18361578             2537          1   \n",
       "\n",
       "   TotalGross     Budget  WorldwideGross  \n",
       "0   177143137  135000000       430643137  \n",
       "1    69521861   28000000       127221861  \n",
       "2   600788188  200000000      2207615668  \n",
       "3    11917804   23000000        11917804  \n",
       "4   116900694  100000000       391976723  \n",
       "\n",
       "[5 rows x 28 columns]"
      ]
     },
     "execution_count": 58,
     "metadata": {},
     "output_type": "execute_result"
    }
   ],
   "source": [
    "movies=pd.merge(imdb_movies,abc_movies,how='inner',on=['Title'])\n",
    "movies=pd.merge(movies,budget_idx,how='inner',on=['Title'])\n",
    "movies.dropna(inplace=True)\n",
    "movies.head()"
   ]
  },
  {
   "cell_type": "code",
   "execution_count": 64,
   "metadata": {
    "collapsed": false
   },
   "outputs": [],
   "source": [
    "movies.to_csv('movies.csv')"
   ]
  },
  {
   "cell_type": "code",
   "execution_count": null,
   "metadata": {
    "collapsed": true
   },
   "outputs": [],
   "source": []
  }
 ],
 "metadata": {
  "kernelspec": {
   "display_name": "Python 2",
   "language": "python",
   "name": "python2"
  },
  "language_info": {
   "codemirror_mode": {
    "name": "ipython",
    "version": 2
   },
   "file_extension": ".py",
   "mimetype": "text/x-python",
   "name": "python",
   "nbconvert_exporter": "python",
   "pygments_lexer": "ipython2",
   "version": "2.7.11"
  }
 },
 "nbformat": 4,
 "nbformat_minor": 0
}
